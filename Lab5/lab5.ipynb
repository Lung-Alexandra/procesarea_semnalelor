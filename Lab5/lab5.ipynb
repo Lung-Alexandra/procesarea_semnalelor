{
 "cells": [
  {
   "cell_type": "code",
   "execution_count": 25,
   "metadata": {},
   "outputs": [],
   "source": [
    "import matplotlib.pyplot as plt\n",
    "import numpy as np\n",
    "import numpy.fft as fft\n",
    "import pandas as pd\n",
    "import datetime as dt"
   ]
  },
  {
   "cell_type": "code",
   "execution_count": 38,
   "metadata": {},
   "outputs": [
    {
     "name": "stdout",
     "output_type": "stream",
     "text": [
      "24.031537450722734\n"
     ]
    }
   ],
   "source": [
    "x = pd.read_csv('Train.csv')\n",
    "# print(x)\n",
    "time = x['Datetime']\n",
    "first = dt.datetime.strptime(time[0],'%d-%m-%Y %H:%M')\n",
    "last = dt.datetime.strptime(time[len(time)-1],'%d-%m-%Y %H:%M')\n",
    "time_interval =  (last - first).days\n",
    "# print(time_interval)\n",
    "samples =  x['Count']\n",
    "N = len(samples)\n",
    "frecv = N/time_interval\n",
    "print(frecv)"
   ]
  },
  {
   "cell_type": "code",
   "execution_count": null,
   "metadata": {},
   "outputs": [],
   "source": []
  }
 ],
 "metadata": {
  "kernelspec": {
   "display_name": "Python 3",
   "language": "python",
   "name": "python3"
  },
  "language_info": {
   "name": "python",
   "version": "3.10.0"
  }
 },
 "nbformat": 4,
 "nbformat_minor": 2
}
